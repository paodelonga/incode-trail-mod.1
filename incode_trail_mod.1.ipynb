{
  "cells": [
    {
      "cell_type": "markdown",
      "source": [
        "# Lições\n",
        "Exercícios feitos durante as aulas da INCODE Tech - Modulo 1."
      ],
      "metadata": {
        "id": "FENI8SsKZRRz"
      }
    },
    {
      "cell_type": "markdown",
      "metadata": {
        "id": "5xSk2MRt893V"
      },
      "source": [
        "### 01\n",
        "Faça um programa que mostre a mensagem \"Alô mundo\" na tela"
      ]
    },
    {
      "cell_type": "code",
      "execution_count": null,
      "metadata": {
        "colab": {
          "base_uri": "https://localhost:8080/"
        },
        "id": "YnzvPW5kDL0k",
        "outputId": "af8f3475-63a0-473a-d1ab-e2cd898a9bb9"
      },
      "outputs": [
        {
          "name": "stdout",
          "output_type": "stream",
          "text": [
            "Olá, Mundo!\n"
          ]
        }
      ],
      "source": [
        "print(\"Olá, Mundo!\")"
      ]
    },
    {
      "cell_type": "markdown",
      "metadata": {
        "id": "1DORdjfk9FUC"
      },
      "source": [
        "### 02\n",
        "## Sobre\n",
        "\n",
        "Faça um programa que peça\n",
        "um número e então mostre a\n",
        "mensagem “O número\n",
        "informado foi [número]”."
      ]
    },
    {
      "cell_type": "code",
      "execution_count": null,
      "metadata": {
        "colab": {
          "base_uri": "https://localhost:8080/"
        },
        "id": "QCetupZnIfLL",
        "outputId": "9f593f3c-7593-4a41-954b-f2a461a424f2"
      },
      "outputs": [
        {
          "name": "stdout",
          "output_type": "stream",
          "text": [
            "Digite um numero: 13\n",
            "O numero informado foi: 13\n"
          ]
        }
      ],
      "source": [
        "a = int(input(\"Digite um numero: \"))\n",
        "print(f\"O numero informado foi {a}\")"
      ]
    },
    {
      "cell_type": "markdown",
      "metadata": {
        "id": "gT36nYK59F7O"
      },
      "source": [
        "### 03\n",
        "\n",
        "### Sobre\n",
        "\n",
        "Faça um programa que\n",
        "peça dois números e\n",
        "imprima a soma.\n",
        "\n",
        "### Entrada\n",
        "\n",
        "Digite um número:<br>\n",
        "Digite outro número:<br>\n",
        "A soma é:"
      ]
    },
    {
      "cell_type": "code",
      "execution_count": null,
      "metadata": {
        "colab": {
          "base_uri": "https://localhost:8080/"
        },
        "id": "Uu7LL5wA7k3a",
        "outputId": "697bb5a8-fe47-4e27-c154-19ed37ef43b0"
      },
      "outputs": [
        {
          "name": "stdout",
          "output_type": "stream",
          "text": [
            "Digite um numero: 123\n",
            "Digite outro numero: 23\n",
            "A soma é: 146\n"
          ]
        }
      ],
      "source": [
        "a = int(input(\"Digite um numero: \"))\n",
        "b = int(input(\"Digite outro numero: \"))\n",
        "SOMA = a + b\n",
        "print(f\"A soma de {a} e {b} é {SOMA}\")"
      ]
    },
    {
      "cell_type": "markdown",
      "metadata": {
        "id": "Si70aDXM9GaM"
      },
      "source": [
        "### 04\n",
        "\n",
        "### Sobre\n",
        "\n",
        "Faça um Programa que\n",
        "peça as 2 notas bimestrais\n",
        "e mostre a média.\n",
        "\n",
        "### Entrada\n",
        "\n",
        "Digite a primeira nota:<br>\n",
        "Digite a segunda nota:<br>\n",
        "A média é:\n"
      ]
    },
    {
      "cell_type": "code",
      "execution_count": null,
      "metadata": {
        "colab": {
          "base_uri": "https://localhost:8080/"
        },
        "id": "em6sfUV_BtEU",
        "outputId": "05e3d87e-8745-4cf3-c118-f2cff726e0f9"
      },
      "outputs": [
        {
          "name": "stdout",
          "output_type": "stream",
          "text": [
            "Digite a primeira nota: 7.8\n",
            "Digite a segunda nota: 7.5\n",
            "A média é: 7.65\n"
          ]
        }
      ],
      "source": [
        "a = float(input(\"Digite a primeira nota: \"))\n",
        "b = float(input(\"Digite a segunda nota: \"))\n",
        "nota = ((a + b) / 2.00)\n",
        "print(f\"A média das notas é {nota}\")\n"
      ]
    },
    {
      "cell_type": "markdown",
      "metadata": {
        "id": "lhw36qYz9Hdn"
      },
      "source": [
        "### 05\n",
        "\n",
        "### Sobre\n",
        "\n",
        "Faça um Programa que converta\n",
        "metros para centímetros.\n",
        "\n",
        "### Entrada\n",
        "\n",
        "Digite o numero em metros:<br>\n",
        "Em centímetros:<br>"
      ]
    },
    {
      "cell_type": "code",
      "execution_count": null,
      "metadata": {
        "colab": {
          "base_uri": "https://localhost:8080/"
        },
        "id": "BhvupttgGxWw",
        "outputId": "d1ec9d55-e099-4817-a489-8536f81b2963"
      },
      "outputs": [
        {
          "name": "stdout",
          "output_type": "stream",
          "text": [
            "Digite um número para fazer a converão em metros: 32.5\n",
            "32.5m é igual a 3250.00cm: \n"
          ]
        }
      ],
      "source": [
        "metros = float(input(\"Digite um valor para converter em metros: \"))\n",
        "cm = (metros * 100.00)\n",
        "print(f\"{metros}m é equivalente a {cm:.2f}cm: \")\n"
      ]
    },
    {
      "cell_type": "markdown",
      "metadata": {
        "id": "ji4OzxJz9JR0"
      },
      "source": [
        "### 06\n",
        "\n",
        "### Sobre\n",
        "\n",
        "Faça um programa que peça um\n",
        "número ao usuário e mostre o seu\n",
        "antecessor e o seu sucessor."
      ]
    },
    {
      "cell_type": "code",
      "execution_count": null,
      "metadata": {
        "colab": {
          "base_uri": "https://localhost:8080/"
        },
        "id": "2ZOhsFfaKpsX",
        "outputId": "7539ce9e-0562-424a-93ff-63c8fc414ef7"
      },
      "outputs": [
        {
          "name": "stdout",
          "output_type": "stream",
          "text": [
            "Digite um número um inteiro para saber seu antecessor e sucessor: 128\n",
            "O seu número é inteiro 128, seu ancessor é 127 e seu sucessor 129\n"
          ]
        }
      ],
      "source": [
        "num = int(input(\"Digite um número um inteiro para saber seu antecessor e sucessor: \"))\n",
        "print(f\"O antecessor de {num} é {num - 1} e seu sucessor é {num + 1}\")\n"
      ]
    },
    {
      "cell_type": "markdown",
      "metadata": {
        "id": "n_yIkOXo9Jq3"
      },
      "source": [
        "### 07\n",
        "\n",
        "### Sobre\n",
        "\n",
        "Faça um Programa que peça dois\n",
        "números e mostre o maior deles.\n",
        "\n",
        "### Entrada\n",
        "\n",
        "Digite um número:<br>\n",
        "Digite outro número:<br>\n",
        "O maior é:"
      ]
    },
    {
      "cell_type": "code",
      "execution_count": null,
      "metadata": {
        "colab": {
          "base_uri": "https://localhost:8080/"
        },
        "id": "LWZ0DhTIR0de",
        "outputId": "cf63d837-735e-472a-ba8d-c87cb12a133b"
      },
      "outputs": [
        {
          "name": "stdout",
          "output_type": "stream",
          "text": [
            "Digite um número: 12\n",
            "Digite outro número: 32\n",
            "O número 32, é maior que 12\n"
          ]
        }
      ],
      "source": [
        "numero = int(input(\"Digite um número: \"))\n",
        "outro_numero = int(input(\"Digite outro número: \"))\n",
        "\n",
        "if(numero > outro_numero):\n",
        "  print(f\"O número {numero} é maior que {outro_numero}\")\n",
        "elif(numero < outro_numero):\n",
        "  print(f\"O número {outro_numero} é maior que {numero}\")\n",
        "else:\n",
        "  print(f\"O números são iguais\")\n"
      ]
    },
    {
      "cell_type": "markdown",
      "metadata": {
        "id": "LWzadQ3n9Kgy"
      },
      "source": [
        "### 08\n",
        "\n",
        "### Sobre\n",
        "\n",
        "Faça um Programa que peça\n",
        "um valor e mostre na tela se o\n",
        "valor é positivo ou negativo."
      ]
    },
    {
      "cell_type": "code",
      "execution_count": null,
      "metadata": {
        "colab": {
          "base_uri": "https://localhost:8080/"
        },
        "id": "CugPoXalsQx6",
        "outputId": "ad8445a8-cfe4-4a5f-bbdc-82ebc8243282"
      },
      "outputs": [
        {
          "name": "stdout",
          "output_type": "stream",
          "text": [
            "Digite o 1° número : 64\n",
            "Digite o 2° número : 32\n",
            "Digite o 3° número : 256\n",
            "O maior número é o 3°: 256\n"
          ]
        }
      ],
      "source": [
        "valor = int(input(\"Digite um valor: \"))\n",
        "\n",
        "if valor < 0:\n",
        "  print(\"O valor {valor} é negativo\")\n",
        "elif valor > 0:\n",
        "  print(\"O valor {valor} é positivo\")\n",
        "else:\n",
        "  print(\"O valor {valor} é neutro\")\n"
      ]
    },
    {
      "cell_type": "markdown",
      "metadata": {
        "id": "6dgbiQbg9K7V"
      },
      "source": [
        "### 09\n",
        "\n",
        "### Sobre\n",
        "\n",
        "Faça um Programa que leia\n",
        "três números diferentes e\n",
        "mostre o maior deles."
      ]
    },
    {
      "cell_type": "code",
      "execution_count": null,
      "metadata": {
        "colab": {
          "base_uri": "https://localhost:8080/"
        },
        "id": "4lVPlPKKs2Zt",
        "outputId": "a7256959-aa46-42f7-c1dc-8470d6ee4677"
      },
      "outputs": [
        {
          "name": "stdout",
          "output_type": "stream",
          "text": [
            "Digite o 1° número : 16\n",
            "Digite o 2° número : 4\n",
            "Digite o 3° número : 1024\n",
            "4 16 1024\n"
          ]
        }
      ],
      "source": [
        "\n",
        "n1 = int(input(\"Digite o 1° número : \"))\n",
        "n2 = int(input(\"Digite o 2° número : \"))\n",
        "n3 = int(input(\"Digite o 3° número : \"))\n",
        "\n",
        "if n1 > n2:\n",
        "  if n1 > n3:\n",
        "    print(f\"O maior número é o 1°: {n1}\")\n",
        "  elif n3 > n1:\n",
        "    print(f\"O maior número é o 3°: {n3}\")\n",
        "else:\n",
        "  if n2 > n3:\n",
        "    print(f\"O maior número é o 2°: {n2}\")\n",
        "  elif n3 > n2:\n",
        "    print(f\"O maior número é o 3°: {n3}\")\n"
      ]
    },
    {
      "cell_type": "markdown",
      "metadata": {
        "id": "6iTv6RVW9Laq"
      },
      "source": [
        "### 10\n",
        "\n",
        "### Sobre\n",
        "\n",
        "Faça um Programa que leia três\n",
        "números diferentes e mostre-os\n",
        "em ordem decrescente."
      ]
    },
    {
      "cell_type": "code",
      "execution_count": null,
      "metadata": {
        "colab": {
          "base_uri": "https://localhost:8080/"
        },
        "id": "PvhWXDoDCvq-",
        "outputId": "c300fdf4-9752-4867-a8db-ffc10ceae0c9"
      },
      "outputs": [
        {
          "name": "stdout",
          "output_type": "stream",
          "text": [
            "Qual valor de consumo na sua mesa? 256\n",
            "Qual a quantidade de pessoas na sua mesa? 6\n",
            "Para a quantidade de 6 pessoas o valor total foi de 286.00 incluindo o adicional de 30.00 para o Garcom.\n"
          ]
        }
      ],
      "source": [
        "\n",
        "n1 = int(input(\"Digite o 1° número : \"))\n",
        "n2 = int(input(\"Digite o 2° número : \"))\n",
        "n3 = int(input(\"Digite o 3° número : \"))\n",
        "\n",
        "if n3 < n2:\n",
        "  if n2 < n1:\n",
        "    print(n3, n2, n1)\n",
        "  elif n1 < n2:\n",
        "    print(n3, n1, n2)\n",
        "elif n2 < n3:\n",
        "  if n1 < n2:\n",
        "    print(n1, n2, n3)\n",
        "  elif n2 < n1:\n",
        "    print(n2, n1, n3)\n",
        "\n"
      ]
    },
    {
      "cell_type": "markdown",
      "metadata": {
        "id": "70qgKbBS-2yt"
      },
      "source": [
        "### 11\n",
        "\n",
        "### Sobre\n",
        "\n",
        "Faça um Programa que calcule o valor final da\n",
        "conta do restaurante:\n",
        "\n",
        "| Valor da conta | % do Garcom |\n",
        "| :---: | :---: |\n",
        "| Acima de R$100 | - |\n",
        "| De R\\$50 a R\\$99,99 | 5%  |\n",
        "| Ate R\\$49,99 | 10% |\n",
        "| --- | --- |\n",
        "\n",
        "| Couvert | Por Pessoas |\n",
        "| :---: | :---: |\n",
        "| 1 Pessoa | - |\n",
        "| Mais de 1 Pessoa | R\\$5 Por Pessoa |\n",
        "\n",
        "### Entrada\n",
        "\n",
        "Valor do consumo:<br>\n",
        "Pessoas na mesa:<br>\n",
        "Valor final:"
      ]
    },
    {
      "cell_type": "code",
      "execution_count": 2,
      "metadata": {
        "id": "lKc-ZHJx-3N2",
        "colab": {
          "base_uri": "https://localhost:8080/"
        },
        "outputId": "000e8357-3549-4e8a-f807-b1f7c7be3949"
      },
      "outputs": [
        {
          "output_type": "stream",
          "name": "stdout",
          "text": [
            "Qual valor de consumo na sua mesa? 98\n",
            "Qual a quantidade de pessoas na sua mesa? 4\n",
            "Para a quantidade de 4 pessoas o valor total da conta foi de 122.90 incluindo o adicional de 24.90 para o Garcom.\n"
          ]
        }
      ],
      "source": [
        "consumo_mesa = float(input(\"Qual valor de consumo na sua mesa? \"))\n",
        "pessoas_mesa = int(input(\"Qual a quantidade de pessoas na sua mesa? \"))\n",
        "valor_garcom = float()\n",
        "valor_conta = float()\n",
        "\n",
        "if(pessoas_mesa > 1):\n",
        "  valor_garcom = (5 * pessoas_mesa)\n",
        "\n",
        "if(consumo_mesa <= 49.99):\n",
        "  valor_garcom = ((10 * (consumo_mesa / 100)) + valor_garcom)\n",
        "  valor_conta = (consumo_mesa + valor_garcom)\n",
        "if(consumo_mesa >= 50 and consumo_mesa <= 99.99):\n",
        "  valor_garcom = ((5 * (consumo_mesa / 100)) + valor_garcom)\n",
        "  valor_conta = (consumo_mesa + valor_garcom)\n",
        "if(consumo_mesa >= 100):\n",
        "  valor_conta = (consumo_mesa + valor_garcom)\n",
        "\n",
        "print(f\"Para a quantidade de {pessoas_mesa} pessoas o valor total da conta foi de {valor_conta:.2f} incluindo o adicional de {valor_garcom:.2f} para o Garcom.\")\n"
      ]
    }
  ],
  "metadata": {
    "colab": {
      "provenance": []
    },
    "kernelspec": {
      "display_name": "Python 3",
      "name": "python3"
    },
    "language_info": {
      "name": "python"
    }
  },
  "nbformat": 4,
  "nbformat_minor": 0
}